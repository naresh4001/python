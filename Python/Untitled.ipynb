{
 "cells": [
  {
   "cell_type": "code",
   "execution_count": 1,
   "id": "acaeadc8",
   "metadata": {},
   "outputs": [],
   "source": [
    "import os\n",
    "import glob\n",
    "import shutil"
   ]
  },
  {
   "cell_type": "code",
   "execution_count": 2,
   "id": "aefba22a",
   "metadata": {},
   "outputs": [],
   "source": [
    "from tabula.io import read_pdf"
   ]
  },
  {
   "cell_type": "code",
   "execution_count": 3,
   "id": "575ab926",
   "metadata": {},
   "outputs": [
    {
     "name": "stdout",
     "output_type": "stream",
     "text": [
      "Current directory: C:\\FromOLDLapTop\\ToP\\Pichu\n",
      "PDF files found: ['C:/FromOLDLapTop/ToP/Pichu/filenew\\\\test.pdf']\n"
     ]
    }
   ],
   "source": [
    "# Define the directory containing PDF files\n",
    "pdf_directory = 'C:/FromOLDLapTop/ToP/Pichu/filenew/'\n",
    "\n",
    "# Define the directory to move processed PDFs to\n",
    "archive_directory = 'C:/FromOLDLapTop/ToP/Pichu/archive/'\n",
    "\n",
    "# Get the current working directory\n",
    "path = os.getcwd()\n",
    "\n",
    "# Print current directory\n",
    "print(\"Current directory:\", path)\n",
    "\n",
    "# Get a list of PDF files in the specified directory\n",
    "pdf_files = glob.glob(os.path.join(pdf_directory, '*.pdf'))\n",
    "\n",
    "# Print the list of PDF files found\n",
    "print(\"PDF files found:\", pdf_files)"
   ]
  },
  {
   "cell_type": "code",
   "execution_count": 5,
   "id": "136d9b41",
   "metadata": {},
   "outputs": [
    {
     "name": "stdout",
     "output_type": "stream",
     "text": [
      "DataFrame extracted from: C:/FromOLDLapTop/ToP/Pichu/filenew\\test.pdf\n",
      "     name country\n",
      "0  rakesh   india\n",
      "C:/FromOLDLapTop/ToP/Pichu/filenew\\test_table_1.csv\n"
     ]
    }
   ],
   "source": [
    "# Iterate over each PDF file\n",
    "for pdf_file in pdf_files:\n",
    "    # Get the source path of the PDF file\n",
    "    src = os.path.join(path, pdf_file)\n",
    "    \n",
    "    # Read tables from the PDF file\n",
    "    tables = read_pdf(src, pages='all')\n",
    "    \n",
    "    # Iterate over each table found in the PDF\n",
    "    for i, df in enumerate(tables):\n",
    "        # Define the output CSV file name\n",
    "        csv_file = os.path.splitext(pdf_file)[0] + f\"_table_{i + 1}.csv\"\n",
    "        \n",
    "        # Convert the table to a CSV file\n",
    "        df.to_csv(os.path.join(path, csv_file), index=False)\n",
    "        \n",
    "        # Print the DataFrame (optional)\n",
    "        print(\"DataFrame extracted from:\", pdf_file)\n",
    "        print(df)\n",
    "        print(csv_file)\n",
    "        \n",
    "    # Move the processed PDF file to the archive directory\n",
    "    dst = os.path.join(path, archive_directory, os.path.basename(pdf_file))\n",
    "    shutil.move(src, dst)"
   ]
  },
  {
   "cell_type": "code",
   "execution_count": null,
   "id": "8e61a04c",
   "metadata": {},
   "outputs": [],
   "source": []
  }
 ],
 "metadata": {
  "kernelspec": {
   "display_name": "Python 3 (ipykernel)",
   "language": "python",
   "name": "python3"
  },
  "language_info": {
   "codemirror_mode": {
    "name": "ipython",
    "version": 3
   },
   "file_extension": ".py",
   "mimetype": "text/x-python",
   "name": "python",
   "nbconvert_exporter": "python",
   "pygments_lexer": "ipython3",
   "version": "3.11.5"
  }
 },
 "nbformat": 4,
 "nbformat_minor": 5
}
